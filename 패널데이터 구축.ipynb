{
 "cells": [
  {
   "cell_type": "code",
   "execution_count": 2,
   "id": "81e42693",
   "metadata": {
    "ExecuteTime": {
     "end_time": "2022-11-10T08:47:40.248377Z",
     "start_time": "2022-11-10T08:47:36.443746Z"
    }
   },
   "outputs": [],
   "source": [
    "import pandas as pd\n",
    "import numpy as np\n",
    "import seaborn as sns\n",
    "%matplotlib inline\n",
    "import matplotlib.pyplot as plt"
   ]
  },
  {
   "cell_type": "markdown",
   "id": "3479194b",
   "metadata": {
    "ExecuteTime": {
     "end_time": "2022-11-10T04:20:19.394006Z",
     "start_time": "2022-11-10T04:20:19.378738Z"
    }
   },
   "source": [
    "# 출산율"
   ]
  },
  {
   "cell_type": "code",
   "execution_count": 4,
   "id": "3d4fbd46",
   "metadata": {
    "ExecuteTime": {
     "end_time": "2022-11-10T08:48:01.938109Z",
     "start_time": "2022-11-10T08:48:01.864411Z"
    }
   },
   "outputs": [
    {
     "name": "stderr",
     "output_type": "stream",
     "text": [
      "C:\\Users\\wkdgu\\anaconda3\\lib\\site-packages\\openpyxl\\styles\\stylesheet.py:226: UserWarning: Workbook contains no default style, apply openpyxl's default\n",
      "  warn(\"Workbook contains no default style, apply openpyxl's default\")\n"
     ]
    },
    {
     "data": {
      "text/html": [
       "<div>\n",
       "<style scoped>\n",
       "    .dataframe tbody tr th:only-of-type {\n",
       "        vertical-align: middle;\n",
       "    }\n",
       "\n",
       "    .dataframe tbody tr th {\n",
       "        vertical-align: top;\n",
       "    }\n",
       "\n",
       "    .dataframe thead th {\n",
       "        text-align: right;\n",
       "    }\n",
       "</style>\n",
       "<table border=\"1\" class=\"dataframe\">\n",
       "  <thead>\n",
       "    <tr style=\"text-align: right;\">\n",
       "      <th></th>\n",
       "      <th></th>\n",
       "      <th>출산율</th>\n",
       "    </tr>\n",
       "    <tr>\n",
       "      <th>시도별</th>\n",
       "      <th></th>\n",
       "      <th></th>\n",
       "    </tr>\n",
       "  </thead>\n",
       "  <tbody>\n",
       "    <tr>\n",
       "      <th rowspan=\"4\" valign=\"top\">서울특별시</th>\n",
       "      <th>2017</th>\n",
       "      <td>0.836</td>\n",
       "    </tr>\n",
       "    <tr>\n",
       "      <th>2018</th>\n",
       "      <td>0.761</td>\n",
       "    </tr>\n",
       "    <tr>\n",
       "      <th>2019</th>\n",
       "      <td>0.717</td>\n",
       "    </tr>\n",
       "    <tr>\n",
       "      <th>2020</th>\n",
       "      <td>0.642</td>\n",
       "    </tr>\n",
       "    <tr>\n",
       "      <th>부산광역시</th>\n",
       "      <th>2017</th>\n",
       "      <td>0.976</td>\n",
       "    </tr>\n",
       "    <tr>\n",
       "      <th>...</th>\n",
       "      <th>...</th>\n",
       "      <td>...</td>\n",
       "    </tr>\n",
       "    <tr>\n",
       "      <th>경상남도</th>\n",
       "      <th>2020</th>\n",
       "      <td>0.945</td>\n",
       "    </tr>\n",
       "    <tr>\n",
       "      <th rowspan=\"4\" valign=\"top\">제주도</th>\n",
       "      <th>2017</th>\n",
       "      <td>1.305</td>\n",
       "    </tr>\n",
       "    <tr>\n",
       "      <th>2018</th>\n",
       "      <td>1.220</td>\n",
       "    </tr>\n",
       "    <tr>\n",
       "      <th>2019</th>\n",
       "      <td>1.145</td>\n",
       "    </tr>\n",
       "    <tr>\n",
       "      <th>2020</th>\n",
       "      <td>1.021</td>\n",
       "    </tr>\n",
       "  </tbody>\n",
       "</table>\n",
       "<p>64 rows × 1 columns</p>\n",
       "</div>"
      ],
      "text/plain": [
       "              출산율\n",
       "시도별              \n",
       "서울특별시 2017  0.836\n",
       "      2018  0.761\n",
       "      2019  0.717\n",
       "      2020  0.642\n",
       "부산광역시 2017  0.976\n",
       "...           ...\n",
       "경상남도  2020  0.945\n",
       "제주도   2017  1.305\n",
       "      2018  1.220\n",
       "      2019  1.145\n",
       "      2020  1.021\n",
       "\n",
       "[64 rows x 1 columns]"
      ]
     },
     "execution_count": 4,
     "metadata": {},
     "output_type": "execute_result"
    }
   ],
   "source": [
    "birth = pd.read_excel(\"C:/Users/wkdgu/Desktop/학술제/시도별_합계출산율.xlsx\")\n",
    "birth = pd.concat([birth[1:8], birth[9:]]).rename(columns={'시군구별':'시도별'})\n",
    "birth = birth.set_index('시도별').rename(index={'제주특별자치도': '제주도'})\n",
    "birth = pd.DataFrame(birth.stack()).rename(columns={0: '출산율'})\n",
    "birth"
   ]
  },
  {
   "cell_type": "markdown",
   "id": "f0eb5c80",
   "metadata": {},
   "source": [
    "# 고용률"
   ]
  },
  {
   "cell_type": "code",
   "execution_count": 194,
   "id": "74398b52",
   "metadata": {
    "ExecuteTime": {
     "end_time": "2022-11-10T06:30:27.301719Z",
     "start_time": "2022-11-10T06:30:27.265372Z"
    }
   },
   "outputs": [
    {
     "name": "stderr",
     "output_type": "stream",
     "text": [
      "C:\\Users\\wkdgu\\anaconda3\\lib\\site-packages\\openpyxl\\styles\\stylesheet.py:226: UserWarning: Workbook contains no default style, apply openpyxl's default\n",
      "  warn(\"Workbook contains no default style, apply openpyxl's default\")\n"
     ]
    },
    {
     "data": {
      "text/html": [
       "<div>\n",
       "<style scoped>\n",
       "    .dataframe tbody tr th:only-of-type {\n",
       "        vertical-align: middle;\n",
       "    }\n",
       "\n",
       "    .dataframe tbody tr th {\n",
       "        vertical-align: top;\n",
       "    }\n",
       "\n",
       "    .dataframe thead th {\n",
       "        text-align: right;\n",
       "    }\n",
       "</style>\n",
       "<table border=\"1\" class=\"dataframe\">\n",
       "  <thead>\n",
       "    <tr style=\"text-align: right;\">\n",
       "      <th></th>\n",
       "      <th></th>\n",
       "      <th>여성고용률</th>\n",
       "    </tr>\n",
       "    <tr>\n",
       "      <th>시도별</th>\n",
       "      <th></th>\n",
       "      <th></th>\n",
       "    </tr>\n",
       "  </thead>\n",
       "  <tbody>\n",
       "    <tr>\n",
       "      <th rowspan=\"4\" valign=\"top\">서울특별시</th>\n",
       "      <th>2017</th>\n",
       "      <td>51.7</td>\n",
       "    </tr>\n",
       "    <tr>\n",
       "      <th>2018</th>\n",
       "      <td>51.6</td>\n",
       "    </tr>\n",
       "    <tr>\n",
       "      <th>2019</th>\n",
       "      <td>52.2</td>\n",
       "    </tr>\n",
       "    <tr>\n",
       "      <th>2020</th>\n",
       "      <td>51.6</td>\n",
       "    </tr>\n",
       "    <tr>\n",
       "      <th>부산광역시</th>\n",
       "      <th>2017</th>\n",
       "      <td>46.7</td>\n",
       "    </tr>\n",
       "    <tr>\n",
       "      <th>...</th>\n",
       "      <th>...</th>\n",
       "      <td>...</td>\n",
       "    </tr>\n",
       "    <tr>\n",
       "      <th>경상남도</th>\n",
       "      <th>2020</th>\n",
       "      <td>50.4</td>\n",
       "    </tr>\n",
       "    <tr>\n",
       "      <th rowspan=\"4\" valign=\"top\">제주도</th>\n",
       "      <th>2017</th>\n",
       "      <td>65.0</td>\n",
       "    </tr>\n",
       "    <tr>\n",
       "      <th>2018</th>\n",
       "      <td>61.2</td>\n",
       "    </tr>\n",
       "    <tr>\n",
       "      <th>2019</th>\n",
       "      <td>61.6</td>\n",
       "    </tr>\n",
       "    <tr>\n",
       "      <th>2020</th>\n",
       "      <td>62.0</td>\n",
       "    </tr>\n",
       "  </tbody>\n",
       "</table>\n",
       "<p>64 rows × 1 columns</p>\n",
       "</div>"
      ],
      "text/plain": [
       "           여성고용률\n",
       "시도별             \n",
       "서울특별시 2017  51.7\n",
       "      2018  51.6\n",
       "      2019  52.2\n",
       "      2020  51.6\n",
       "부산광역시 2017  46.7\n",
       "...          ...\n",
       "경상남도  2020  50.4\n",
       "제주도   2017  65.0\n",
       "      2018  61.2\n",
       "      2019  61.6\n",
       "      2020  62.0\n",
       "\n",
       "[64 rows x 1 columns]"
      ]
     },
     "execution_count": 194,
     "metadata": {},
     "output_type": "execute_result"
    }
   ],
   "source": [
    "labor = pd.read_excel(\"C:/Users/wkdgu/Desktop/학술제/시도별_여성고용률.xlsx\")\n",
    "labor = labor[['시도별', '2017', '2018', '2019', '2020']]\n",
    "labor = pd.concat([labor[2:9], labor[10:]])\n",
    "labor = labor.set_index('시도별').rename(index={'계': '전국'})\n",
    "labor = pd.DataFrame(labor.stack()).rename(columns={0: '여성고용률'})\n",
    "labor"
   ]
  },
  {
   "cell_type": "markdown",
   "id": "f1a966e5",
   "metadata": {},
   "source": [
    "# 시도별 출산휴가제도"
   ]
  },
  {
   "cell_type": "code",
   "execution_count": 184,
   "id": "93901332",
   "metadata": {
    "ExecuteTime": {
     "end_time": "2022-11-10T06:22:19.801662Z",
     "start_time": "2022-11-10T06:22:19.768851Z"
    }
   },
   "outputs": [
    {
     "name": "stderr",
     "output_type": "stream",
     "text": [
      "C:\\Users\\wkdgu\\anaconda3\\lib\\site-packages\\openpyxl\\styles\\stylesheet.py:226: UserWarning: Workbook contains no default style, apply openpyxl's default\n",
      "  warn(\"Workbook contains no default style, apply openpyxl's default\")\n"
     ]
    },
    {
     "data": {
      "text/html": [
       "<div>\n",
       "<style scoped>\n",
       "    .dataframe tbody tr th:only-of-type {\n",
       "        vertical-align: middle;\n",
       "    }\n",
       "\n",
       "    .dataframe tbody tr th {\n",
       "        vertical-align: top;\n",
       "    }\n",
       "\n",
       "    .dataframe thead th {\n",
       "        text-align: right;\n",
       "    }\n",
       "</style>\n",
       "<table border=\"1\" class=\"dataframe\">\n",
       "  <thead>\n",
       "    <tr style=\"text-align: right;\">\n",
       "      <th></th>\n",
       "      <th></th>\n",
       "      <th>출산휴가사용비율</th>\n",
       "    </tr>\n",
       "    <tr>\n",
       "      <th>시도별</th>\n",
       "      <th></th>\n",
       "      <th></th>\n",
       "    </tr>\n",
       "  </thead>\n",
       "  <tbody>\n",
       "    <tr>\n",
       "      <th rowspan=\"4\" valign=\"top\">서울특별시</th>\n",
       "      <th>2017</th>\n",
       "      <td>12.9</td>\n",
       "    </tr>\n",
       "    <tr>\n",
       "      <th>2018</th>\n",
       "      <td>12.8</td>\n",
       "    </tr>\n",
       "    <tr>\n",
       "      <th>2019</th>\n",
       "      <td>10.2</td>\n",
       "    </tr>\n",
       "    <tr>\n",
       "      <th>2020</th>\n",
       "      <td>10.9</td>\n",
       "    </tr>\n",
       "    <tr>\n",
       "      <th>부산광역시</th>\n",
       "      <th>2017</th>\n",
       "      <td>17.5</td>\n",
       "    </tr>\n",
       "    <tr>\n",
       "      <th>...</th>\n",
       "      <th>...</th>\n",
       "      <td>...</td>\n",
       "    </tr>\n",
       "    <tr>\n",
       "      <th>경상남도</th>\n",
       "      <th>2020</th>\n",
       "      <td>8.8</td>\n",
       "    </tr>\n",
       "    <tr>\n",
       "      <th rowspan=\"4\" valign=\"top\">제주도</th>\n",
       "      <th>2017</th>\n",
       "      <td>4.7</td>\n",
       "    </tr>\n",
       "    <tr>\n",
       "      <th>2018</th>\n",
       "      <td>20.5</td>\n",
       "    </tr>\n",
       "    <tr>\n",
       "      <th>2019</th>\n",
       "      <td>10.9</td>\n",
       "    </tr>\n",
       "    <tr>\n",
       "      <th>2020</th>\n",
       "      <td>3.8</td>\n",
       "    </tr>\n",
       "  </tbody>\n",
       "</table>\n",
       "<p>64 rows × 1 columns</p>\n",
       "</div>"
      ],
      "text/plain": [
       "           출산휴가사용비율\n",
       "시도별                \n",
       "서울특별시 2017     12.9\n",
       "      2018     12.8\n",
       "      2019     10.2\n",
       "      2020     10.9\n",
       "부산광역시 2017     17.5\n",
       "...             ...\n",
       "경상남도  2020      8.8\n",
       "제주도   2017      4.7\n",
       "      2018     20.5\n",
       "      2019     10.9\n",
       "      2020      3.8\n",
       "\n",
       "[64 rows x 1 columns]"
      ]
     },
     "execution_count": 184,
     "metadata": {},
     "output_type": "execute_result"
    }
   ],
   "source": [
    "# 출산휴가를 사용한 비율(%)\n",
    "ml = pd.read_excel(\"C:/Users/wkdgu/Desktop/학술제/시도별_출산휴가제도.xlsx\")\n",
    "ml = ml.iloc[3:,1:].rename(columns = {'사업체특성별(2)':'시도별'}).set_index('시도별').rename(index={'제주특별자치도':'제주도'})\n",
    "ml = pd.DataFrame(ml.stack()).rename(columns={0: '출산휴가사용비율'})\n",
    "ml"
   ]
  },
  {
   "cell_type": "markdown",
   "id": "d5ca317a",
   "metadata": {},
   "source": [
    "# 시도별 배우자출산휴가제도"
   ]
  },
  {
   "cell_type": "code",
   "execution_count": 189,
   "id": "3b724cf2",
   "metadata": {
    "ExecuteTime": {
     "end_time": "2022-11-10T06:28:12.866350Z",
     "start_time": "2022-11-10T06:28:12.839432Z"
    }
   },
   "outputs": [
    {
     "name": "stderr",
     "output_type": "stream",
     "text": [
      "C:\\Users\\wkdgu\\anaconda3\\lib\\site-packages\\openpyxl\\styles\\stylesheet.py:226: UserWarning: Workbook contains no default style, apply openpyxl's default\n",
      "  warn(\"Workbook contains no default style, apply openpyxl's default\")\n"
     ]
    },
    {
     "data": {
      "text/html": [
       "<div>\n",
       "<style scoped>\n",
       "    .dataframe tbody tr th:only-of-type {\n",
       "        vertical-align: middle;\n",
       "    }\n",
       "\n",
       "    .dataframe tbody tr th {\n",
       "        vertical-align: top;\n",
       "    }\n",
       "\n",
       "    .dataframe thead th {\n",
       "        text-align: right;\n",
       "    }\n",
       "</style>\n",
       "<table border=\"1\" class=\"dataframe\">\n",
       "  <thead>\n",
       "    <tr style=\"text-align: right;\">\n",
       "      <th></th>\n",
       "      <th></th>\n",
       "      <th>남성_출산휴가_사용비율</th>\n",
       "    </tr>\n",
       "    <tr>\n",
       "      <th>시도별</th>\n",
       "      <th></th>\n",
       "      <th></th>\n",
       "    </tr>\n",
       "  </thead>\n",
       "  <tbody>\n",
       "    <tr>\n",
       "      <th rowspan=\"4\" valign=\"top\">서울특별시</th>\n",
       "      <th>2017</th>\n",
       "      <td>7.5</td>\n",
       "    </tr>\n",
       "    <tr>\n",
       "      <th>2018</th>\n",
       "      <td>7.1</td>\n",
       "    </tr>\n",
       "    <tr>\n",
       "      <th>2019</th>\n",
       "      <td>5.6</td>\n",
       "    </tr>\n",
       "    <tr>\n",
       "      <th>2020</th>\n",
       "      <td>10.1</td>\n",
       "    </tr>\n",
       "    <tr>\n",
       "      <th>부산광역시</th>\n",
       "      <th>2017</th>\n",
       "      <td>8.2</td>\n",
       "    </tr>\n",
       "    <tr>\n",
       "      <th>...</th>\n",
       "      <th>...</th>\n",
       "      <td>...</td>\n",
       "    </tr>\n",
       "    <tr>\n",
       "      <th>경상남도</th>\n",
       "      <th>2020</th>\n",
       "      <td>6.5</td>\n",
       "    </tr>\n",
       "    <tr>\n",
       "      <th rowspan=\"4\" valign=\"top\">제주도</th>\n",
       "      <th>2017</th>\n",
       "      <td>5.1</td>\n",
       "    </tr>\n",
       "    <tr>\n",
       "      <th>2018</th>\n",
       "      <td>3.8</td>\n",
       "    </tr>\n",
       "    <tr>\n",
       "      <th>2019</th>\n",
       "      <td>6.2</td>\n",
       "    </tr>\n",
       "    <tr>\n",
       "      <th>2020</th>\n",
       "      <td>9.8</td>\n",
       "    </tr>\n",
       "  </tbody>\n",
       "</table>\n",
       "<p>64 rows × 1 columns</p>\n",
       "</div>"
      ],
      "text/plain": [
       "           남성_출산휴가_사용비율\n",
       "시도별                    \n",
       "서울특별시 2017          7.5\n",
       "      2018          7.1\n",
       "      2019          5.6\n",
       "      2020         10.1\n",
       "부산광역시 2017          8.2\n",
       "...                 ...\n",
       "경상남도  2020          6.5\n",
       "제주도   2017          5.1\n",
       "      2018          3.8\n",
       "      2019          6.2\n",
       "      2020          9.8\n",
       "\n",
       "[64 rows x 1 columns]"
      ]
     },
     "execution_count": 189,
     "metadata": {},
     "output_type": "execute_result"
    }
   ],
   "source": [
    "# 남편이 출산휴가를 사용한 비율(%)\n",
    "spouse_ml = pd.read_excel(\"C:/Users/wkdgu/Desktop/학술제/시도별_배우자출산휴가제도.xlsx\")\n",
    "spouse_ml = spouse_ml.iloc[3:,1:].rename(columns = {'사업체특성별(2)':'시도별'}).set_index('시도별').rename(index={'제주특별자치도':'제주도'})\n",
    "spouse_ml = pd.DataFrame(spouse_ml.stack()).rename(columns={0: '남성_출산휴가_사용비율'})\n",
    "spouse_ml"
   ]
  },
  {
   "cell_type": "markdown",
   "id": "ae2063ba",
   "metadata": {},
   "source": [
    "# 시도별 육아기 근로단축제도"
   ]
  },
  {
   "cell_type": "code",
   "execution_count": 187,
   "id": "f65fb13b",
   "metadata": {
    "ExecuteTime": {
     "end_time": "2022-11-10T06:26:02.414137Z",
     "start_time": "2022-11-10T06:26:02.368100Z"
    }
   },
   "outputs": [
    {
     "name": "stderr",
     "output_type": "stream",
     "text": [
      "C:\\Users\\wkdgu\\anaconda3\\lib\\site-packages\\openpyxl\\styles\\stylesheet.py:226: UserWarning: Workbook contains no default style, apply openpyxl's default\n",
      "  warn(\"Workbook contains no default style, apply openpyxl's default\")\n"
     ]
    },
    {
     "data": {
      "text/html": [
       "<div>\n",
       "<style scoped>\n",
       "    .dataframe tbody tr th:only-of-type {\n",
       "        vertical-align: middle;\n",
       "    }\n",
       "\n",
       "    .dataframe tbody tr th {\n",
       "        vertical-align: top;\n",
       "    }\n",
       "\n",
       "    .dataframe thead th {\n",
       "        text-align: right;\n",
       "    }\n",
       "</style>\n",
       "<table border=\"1\" class=\"dataframe\">\n",
       "  <thead>\n",
       "    <tr style=\"text-align: right;\">\n",
       "      <th></th>\n",
       "      <th></th>\n",
       "      <th>육아기_근로시간단축_사용비율</th>\n",
       "    </tr>\n",
       "    <tr>\n",
       "      <th>시도별</th>\n",
       "      <th></th>\n",
       "      <th></th>\n",
       "    </tr>\n",
       "  </thead>\n",
       "  <tbody>\n",
       "    <tr>\n",
       "      <th rowspan=\"4\" valign=\"top\">서울특별시</th>\n",
       "      <th>2017</th>\n",
       "      <td>5.2</td>\n",
       "    </tr>\n",
       "    <tr>\n",
       "      <th>2018</th>\n",
       "      <td>6.7</td>\n",
       "    </tr>\n",
       "    <tr>\n",
       "      <th>2019</th>\n",
       "      <td>5.4</td>\n",
       "    </tr>\n",
       "    <tr>\n",
       "      <th>2020</th>\n",
       "      <td>8.2</td>\n",
       "    </tr>\n",
       "    <tr>\n",
       "      <th>부산광역시</th>\n",
       "      <th>2017</th>\n",
       "      <td>4.3</td>\n",
       "    </tr>\n",
       "    <tr>\n",
       "      <th>...</th>\n",
       "      <th>...</th>\n",
       "      <td>...</td>\n",
       "    </tr>\n",
       "    <tr>\n",
       "      <th>경상남도</th>\n",
       "      <th>2020</th>\n",
       "      <td>7.8</td>\n",
       "    </tr>\n",
       "    <tr>\n",
       "      <th rowspan=\"4\" valign=\"top\">제주도</th>\n",
       "      <th>2017</th>\n",
       "      <td>5.8</td>\n",
       "    </tr>\n",
       "    <tr>\n",
       "      <th>2018</th>\n",
       "      <td>7.5</td>\n",
       "    </tr>\n",
       "    <tr>\n",
       "      <th>2019</th>\n",
       "      <td>13.2</td>\n",
       "    </tr>\n",
       "    <tr>\n",
       "      <th>2020</th>\n",
       "      <td>2.7</td>\n",
       "    </tr>\n",
       "  </tbody>\n",
       "</table>\n",
       "<p>64 rows × 1 columns</p>\n",
       "</div>"
      ],
      "text/plain": [
       "           육아기_근로시간단축_사용비율\n",
       "시도별                       \n",
       "서울특별시 2017             5.2\n",
       "      2018             6.7\n",
       "      2019             5.4\n",
       "      2020             8.2\n",
       "부산광역시 2017             4.3\n",
       "...                    ...\n",
       "경상남도  2020             7.8\n",
       "제주도   2017             5.8\n",
       "      2018             7.5\n",
       "      2019            13.2\n",
       "      2020             2.7\n",
       "\n",
       "[64 rows x 1 columns]"
      ]
     },
     "execution_count": 187,
     "metadata": {},
     "output_type": "execute_result"
    }
   ],
   "source": [
    "cut = pd.read_excel(\"C:/Users/wkdgu/Desktop/학술제/육아기_근로시간_단축제도활용실적현황_20221110111659.xlsx\")\n",
    "cut = cut.iloc[3:,1:].rename(columns = {'사업체특성별(2)':'시도별'}).set_index('시도별').rename(index={'제주특별자치도':'제주도'})\n",
    "cut = pd.DataFrame(cut.stack()).rename(columns={0: '육아기_근로시간단축_사용비율'})\n",
    "cut"
   ]
  },
  {
   "cell_type": "code",
   "execution_count": 196,
   "id": "5bbc9924",
   "metadata": {
    "ExecuteTime": {
     "end_time": "2022-11-10T06:32:08.928839Z",
     "start_time": "2022-11-10T06:32:08.744276Z"
    }
   },
   "outputs": [],
   "source": [
    "panel_data = pd.concat([birth, labor, ml, spouse_ml, cut], axis = 1) \n",
    "panel_data.to_excel('panel_data.xlsx')"
   ]
  },
  {
   "cell_type": "code",
   "execution_count": null,
   "id": "1a7f44d3",
   "metadata": {},
   "outputs": [],
   "source": []
  }
 ],
 "metadata": {
  "kernelspec": {
   "display_name": "Python 3 (ipykernel)",
   "language": "python",
   "name": "python3"
  },
  "language_info": {
   "codemirror_mode": {
    "name": "ipython",
    "version": 3
   },
   "file_extension": ".py",
   "mimetype": "text/x-python",
   "name": "python",
   "nbconvert_exporter": "python",
   "pygments_lexer": "ipython3",
   "version": "3.9.7"
  },
  "toc": {
   "base_numbering": 1,
   "nav_menu": {},
   "number_sections": true,
   "sideBar": true,
   "skip_h1_title": false,
   "title_cell": "Table of Contents",
   "title_sidebar": "Contents",
   "toc_cell": false,
   "toc_position": {},
   "toc_section_display": true,
   "toc_window_display": false
  },
  "varInspector": {
   "cols": {
    "lenName": 16,
    "lenType": 16,
    "lenVar": 40
   },
   "kernels_config": {
    "python": {
     "delete_cmd_postfix": "",
     "delete_cmd_prefix": "del ",
     "library": "var_list.py",
     "varRefreshCmd": "print(var_dic_list())"
    },
    "r": {
     "delete_cmd_postfix": ") ",
     "delete_cmd_prefix": "rm(",
     "library": "var_list.r",
     "varRefreshCmd": "cat(var_dic_list()) "
    }
   },
   "types_to_exclude": [
    "module",
    "function",
    "builtin_function_or_method",
    "instance",
    "_Feature"
   ],
   "window_display": false
  }
 },
 "nbformat": 4,
 "nbformat_minor": 5
}
